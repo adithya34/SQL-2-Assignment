{
 "cells": [
  {
   "cell_type": "code",
   "execution_count": 28,
   "metadata": {},
   "outputs": [
    {
     "name": "stdout",
     "output_type": "stream",
     "text": [
      "2018-12-10 17:37:45,758 INFO sqlalchemy.engine.base.Engine SELECT CAST('test plain returns' AS VARCHAR(60)) AS anon_1\n",
      "2018-12-10 17:37:45,762 INFO sqlalchemy.engine.base.Engine ()\n",
      "2018-12-10 17:37:45,771 INFO sqlalchemy.engine.base.Engine SELECT CAST('test unicode returns' AS VARCHAR(60)) AS anon_1\n",
      "2018-12-10 17:37:45,777 INFO sqlalchemy.engine.base.Engine ()\n",
      "2018-12-10 17:37:45,788 INFO sqlalchemy.engine.base.Engine PRAGMA table_info(\"alchemy\")\n",
      "2018-12-10 17:37:45,794 INFO sqlalchemy.engine.base.Engine ()\n",
      "2018-12-10 17:37:45,827 INFO sqlalchemy.engine.base.Engine \n",
      "CREATE TABLE alchemy (\n",
      "\t\"index\" BIGINT, \n",
      "\tage BIGINT, \n",
      "\tworkclass TEXT, \n",
      "\tfnlwgt BIGINT, \n",
      "\teducation TEXT, \n",
      "\t\"educationNum\" BIGINT, \n",
      "\t\"marital-status\" TEXT, \n",
      "\toccupation TEXT, \n",
      "\trelationship TEXT, \n",
      "\trace TEXT, \n",
      "\tsex TEXT, \n",
      "\t\"capital-gain\" BIGINT, \n",
      "\t\"capital-loss\" BIGINT, \n",
      "\t\"hours-per-week\" BIGINT, \n",
      "\t\"native-country\" TEXT, \n",
      "\tincome TEXT\n",
      ")\n",
      "\n",
      "\n",
      "2018-12-10 17:37:45,834 INFO sqlalchemy.engine.base.Engine ()\n",
      "2018-12-10 17:37:45,992 INFO sqlalchemy.engine.base.Engine COMMIT\n",
      "2018-12-10 17:37:46,000 INFO sqlalchemy.engine.base.Engine CREATE INDEX ix_alchemy_index ON alchemy (\"index\")\n",
      "2018-12-10 17:37:46,012 INFO sqlalchemy.engine.base.Engine ()\n",
      "2018-12-10 17:37:46,271 INFO sqlalchemy.engine.base.Engine COMMIT\n",
      "2018-12-10 17:37:46,431 INFO sqlalchemy.engine.base.Engine BEGIN (implicit)\n",
      "2018-12-10 17:37:49,970 INFO sqlalchemy.engine.base.Engine INSERT INTO alchemy (\"index\", age, workclass, fnlwgt, education, \"educationNum\", \"marital-status\", occupation, relationship, race, sex, \"capital-gain\", \"capital-loss\", \"hours-per-week\", \"native-country\", income) VALUES (?, ?, ?, ?, ?, ?, ?, ?, ?, ?, ?, ?, ?, ?, ?, ?)\n",
      "2018-12-10 17:37:49,974 INFO sqlalchemy.engine.base.Engine ((0, 39, ' State-gov', 77516, ' Bachelors', 13, ' Never-married', ' Adm-clerical', ' Not-in-family', ' White', ' Male', 2174, 0, 40, ' United-States', ' <=50K'), (1, 50, ' Self-emp-not-inc', 83311, ' Bachelors', 13, ' Married-civ-spouse', ' Exec-managerial', ' Husband', ' White', ' Male', 0, 0, 13, ' United-States', ' <=50K'), (2, 38, ' Private', 215646, ' HS-grad', 9, ' Divorced', ' Handlers-cleaners', ' Not-in-family', ' White', ' Male', 0, 0, 40, ' United-States', ' <=50K'), (3, 53, ' Private', 234721, ' 11th', 7, ' Married-civ-spouse', ' Handlers-cleaners', ' Husband', ' Black', ' Male', 0, 0, 40, ' United-States', ' <=50K'), (4, 28, ' Private', 338409, ' Bachelors', 13, ' Married-civ-spouse', ' Prof-specialty', ' Wife', ' Black', ' Female', 0, 0, 40, ' Cuba', ' <=50K'), (5, 37, ' Private', 284582, ' Masters', 14, ' Married-civ-spouse', ' Exec-managerial', ' Wife', ' White', ' Female', 0, 0, 40, ' United-States', ' <=50K'), (6, 49, ' Private', 160187, ' 9th', 5, ' Married-spouse-absent', ' Other-service', ' Not-in-family', ' Black', ' Female', 0, 0, 16, ' Jamaica', ' <=50K'), (7, 52, ' Self-emp-not-inc', 209642, ' HS-grad', 9, ' Married-civ-spouse', ' Exec-managerial', ' Husband', ' White', ' Male', 0, 0, 45, ' United-States', ' >50K')  ... displaying 10 of 32561 total bound parameter sets ...  (32559, 22, ' Private', 201490, ' HS-grad', 9, ' Never-married', ' Adm-clerical', ' Own-child', ' White', ' Male', 0, 0, 20, ' United-States', ' <=50K'), (32560, 52, ' Self-emp-inc', 287927, ' HS-grad', 9, ' Married-civ-spouse', ' Exec-managerial', ' Wife', ' White', ' Female', 15024, 0, 40, ' United-States', ' >50K'))\n",
      "2018-12-10 17:37:50,859 INFO sqlalchemy.engine.base.Engine COMMIT\n"
     ]
    }
   ],
   "source": [
    "import sqlalchemy\n",
    "import pandas as pd\n",
    "from sqlalchemy import create_engine\n",
    "\n",
    "df = pd.read_csv('https://archive.ics.uci.edu/ml/machine-learning-databases/adult/adult.data',sep=\",\",header=None)\n",
    "df.columns=['age','workclass','fnlwgt','education','educationNum','marital-status','occupation','relationship','race','sex','capital-gain','capital-loss','hours-per-week','native-country','income']\n",
    "engine = create_engine('sqlite:///myData.db',echo=True)\n",
    "df.to_sql('alchemy', engine)"
   ]
  },
  {
   "cell_type": "code",
   "execution_count": 8,
   "metadata": {
    "collapsed": true
   },
   "outputs": [],
   "source": [
    "conn = engine.connect()"
   ]
  },
  {
   "cell_type": "markdown",
   "metadata": {},
   "source": [
    "Write two basic update queries"
   ]
  },
  {
   "cell_type": "code",
   "execution_count": 33,
   "metadata": {},
   "outputs": [
    {
     "name": "stdout",
     "output_type": "stream",
     "text": [
      "2018-12-10 17:39:43,426 INFO sqlalchemy.engine.base.Engine UPDATE alchemy SET income = '<10K' WHERE age=40 and education=' Bachelors' \n",
      "2018-12-10 17:39:43,434 INFO sqlalchemy.engine.base.Engine ()\n",
      "2018-12-10 17:39:43,552 INFO sqlalchemy.engine.base.Engine COMMIT\n",
      "<sqlalchemy.engine.result.ResultProxy object at 0x000001D3C5510160>\n"
     ]
    }
   ],
   "source": [
    "#update query 1\n",
    "print(engine.execute('''UPDATE alchemy SET income = '<10K' WHERE age=40 and education=' Bachelors' '''))\n"
   ]
  },
  {
   "cell_type": "code",
   "execution_count": 50,
   "metadata": {},
   "outputs": [
    {
     "name": "stdout",
     "output_type": "stream",
     "text": [
      "2018-12-10 17:57:09,415 INFO sqlalchemy.engine.base.Engine SELECT * FROM alchemy WHERE age=40 and education=' Bachelors' and educationNum=13 LIMIT 10\n"
     ]
    },
    {
     "name": "stderr",
     "output_type": "stream",
     "text": [
      "INFO:sqlalchemy.engine.base.Engine:SELECT * FROM alchemy WHERE age=40 and education=' Bachelors' and educationNum=13 LIMIT 10\n"
     ]
    },
    {
     "name": "stdout",
     "output_type": "stream",
     "text": [
      "2018-12-10 17:57:09,429 INFO sqlalchemy.engine.base.Engine ()\n"
     ]
    },
    {
     "name": "stderr",
     "output_type": "stream",
     "text": [
      "INFO:sqlalchemy.engine.base.Engine:()\n"
     ]
    },
    {
     "name": "stdout",
     "output_type": "stream",
     "text": [
      "[(121, 40, ' Private', 118853, ' Bachelors', 13, ' Married-civ-spouse', ' Exec-managerial', ' Husband', ' White', ' Male', 0, 0, 60, ' United-States', '<10K'), (240, 40, ' Private', 347890, ' Bachelors', 13, ' Married-civ-spouse', ' Prof-specialty', ' Husband', ' White', ' Male', 0, 0, 40, ' United-States', '<10K'), (432, 40, ' Self-emp-not-inc', 204116, ' Bachelors', 13, ' Married-spouse-absent', ' Prof-specialty', ' Not-in-family', ' White', ' Female', 2174, 0, 40, ' United-States', '<10K'), (784, 40, ' Private', 237601, ' Bachelors', 13, ' Never-married', ' Sales', ' Not-in-family', ' Other', ' Female', 0, 0, 55, ' United-States', '<10K'), (1143, 40, ' Private', 214010, ' Bachelors', 13, ' Never-married', ' Other-service', ' Not-in-family', ' White', ' Male', 0, 0, 37, ' United-States', '<10K'), (1181, 40, ' Private', 216237, ' Bachelors', 13, ' Divorced', ' Exec-managerial', ' Not-in-family', ' White', ' Female', 0, 0, 45, ' United-States', '<10K'), (1975, 40, ' Private', 121956, ' Bachelors', 13, ' Married-spouse-absent', ' Prof-specialty', ' Not-in-family', ' Asian-Pac-Islander', ' Male', 13550, 0, 40, ' Cambodia', '<10K'), (2269, 40, ' Self-emp-not-inc', 209040, ' Bachelors', 13, ' Married-civ-spouse', ' Sales', ' Husband', ' White', ' Male', 0, 0, 40, ' United-States', '<10K'), (2314, 40, ' Private', 29841, ' Bachelors', 13, ' Married-civ-spouse', ' Adm-clerical', ' Wife', ' White', ' Female', 0, 0, 40, ' United-States', '<10K'), (2664, 40, ' Private', 163215, ' Bachelors', 13, ' Divorced', ' Exec-managerial', ' Not-in-family', ' White', ' Female', 10520, 0, 40, ' United-States', '<10K')]\n"
     ]
    }
   ],
   "source": [
    "#Result of update query 1\n",
    "print(engine.execute('''SELECT * FROM alchemy WHERE age=40 and education=' Bachelors' and educationNum=13 LIMIT 10''').fetchall())\n"
   ]
  },
  {
   "cell_type": "code",
   "execution_count": 35,
   "metadata": {},
   "outputs": [
    {
     "name": "stdout",
     "output_type": "stream",
     "text": [
      "2018-12-10 17:40:56,497 INFO sqlalchemy.engine.base.Engine UPDATE alchemy\n",
      "SET income = '<50K'\n",
      "WHERE age=38 and workclass=' Private' and fnlwgt=215646\n",
      "and education=' HS-grad' and educationNum=9\n",
      "2018-12-10 17:40:56,504 INFO sqlalchemy.engine.base.Engine ()\n",
      "2018-12-10 17:40:56,613 INFO sqlalchemy.engine.base.Engine COMMIT\n",
      "<sqlalchemy.engine.result.ResultProxy object at 0x000001D3C55102B0>\n"
     ]
    }
   ],
   "source": [
    "#update query2\n",
    "print(engine.execute('''UPDATE alchemy\n",
    "SET income = '<50K'\n",
    "WHERE age=38 and workclass=' Private' and fnlwgt=215646\n",
    "and education=' HS-grad' and educationNum=9'''))\n"
   ]
  },
  {
   "cell_type": "code",
   "execution_count": 37,
   "metadata": {},
   "outputs": [
    {
     "name": "stdout",
     "output_type": "stream",
     "text": [
      "2018-12-10 17:41:19,700 INFO sqlalchemy.engine.base.Engine SELECT * FROM alchemy WHERE age=38 and workclass=' Private' and fnlwgt=215646\n",
      "and education=' HS-grad' and educationNum=9\n"
     ]
    },
    {
     "name": "stderr",
     "output_type": "stream",
     "text": [
      "INFO:sqlalchemy.engine.base.Engine:SELECT * FROM alchemy WHERE age=38 and workclass=' Private' and fnlwgt=215646\n",
      "and education=' HS-grad' and educationNum=9\n"
     ]
    },
    {
     "name": "stdout",
     "output_type": "stream",
     "text": [
      "2018-12-10 17:41:19,712 INFO sqlalchemy.engine.base.Engine ()\n"
     ]
    },
    {
     "name": "stderr",
     "output_type": "stream",
     "text": [
      "INFO:sqlalchemy.engine.base.Engine:()\n"
     ]
    },
    {
     "name": "stdout",
     "output_type": "stream",
     "text": [
      "[(2, 38, ' Private', 215646, ' HS-grad', 9, ' Divorced', ' Handlers-cleaners', ' Not-in-family', ' White', ' Male', 0, 0, 40, ' United-States', '<50K')]\n"
     ]
    }
   ],
   "source": [
    "print(engine.execute('''SELECT * FROM alchemy WHERE age=38 and workclass=' Private' and fnlwgt=215646\n",
    "and education=' HS-grad' and educationNum=9''').fetchall())"
   ]
  },
  {
   "cell_type": "markdown",
   "metadata": {},
   "source": [
    "Write two basic delete queries"
   ]
  },
  {
   "cell_type": "code",
   "execution_count": 38,
   "metadata": {},
   "outputs": [
    {
     "name": "stdout",
     "output_type": "stream",
     "text": [
      "2018-12-10 17:43:23,861 INFO sqlalchemy.engine.base.Engine DELETE FROM alchemy WHERE age=40 and workclass=' State-gov' and fnlwgt=77516\n",
      "and education=' Bachelors' and educationNum=13\n"
     ]
    },
    {
     "name": "stderr",
     "output_type": "stream",
     "text": [
      "INFO:sqlalchemy.engine.base.Engine:DELETE FROM alchemy WHERE age=40 and workclass=' State-gov' and fnlwgt=77516\n",
      "and education=' Bachelors' and educationNum=13\n"
     ]
    },
    {
     "name": "stdout",
     "output_type": "stream",
     "text": [
      "2018-12-10 17:43:23,875 INFO sqlalchemy.engine.base.Engine ()\n"
     ]
    },
    {
     "name": "stderr",
     "output_type": "stream",
     "text": [
      "INFO:sqlalchemy.engine.base.Engine:()\n"
     ]
    },
    {
     "name": "stdout",
     "output_type": "stream",
     "text": [
      "2018-12-10 17:43:23,960 INFO sqlalchemy.engine.base.Engine COMMIT\n"
     ]
    },
    {
     "name": "stderr",
     "output_type": "stream",
     "text": [
      "INFO:sqlalchemy.engine.base.Engine:COMMIT\n"
     ]
    },
    {
     "name": "stdout",
     "output_type": "stream",
     "text": [
      "<sqlalchemy.engine.result.ResultProxy object at 0x000001D3C4C6C358>\n",
      "2018-12-10 17:43:23,980 INFO sqlalchemy.engine.base.Engine SELECT * FROM alchemy WHERE age=40 and workclass=' State-gov' and fnlwgt=77516\n",
      "and education=' Bachelors' and educationNum=13 \n"
     ]
    },
    {
     "name": "stderr",
     "output_type": "stream",
     "text": [
      "INFO:sqlalchemy.engine.base.Engine:SELECT * FROM alchemy WHERE age=40 and workclass=' State-gov' and fnlwgt=77516\n",
      "and education=' Bachelors' and educationNum=13 \n"
     ]
    },
    {
     "name": "stdout",
     "output_type": "stream",
     "text": [
      "2018-12-10 17:43:23,998 INFO sqlalchemy.engine.base.Engine ()\n"
     ]
    },
    {
     "name": "stderr",
     "output_type": "stream",
     "text": [
      "INFO:sqlalchemy.engine.base.Engine:()\n"
     ]
    },
    {
     "name": "stdout",
     "output_type": "stream",
     "text": [
      "[]\n"
     ]
    }
   ],
   "source": [
    "print(engine.execute('''DELETE FROM alchemy WHERE age=40 and workclass=' State-gov' and fnlwgt=77516\n",
    "and education=' Bachelors' and educationNum=13'''))\n",
    "\n",
    "print(engine.execute('''SELECT * FROM alchemy WHERE age=40 and workclass=' State-gov' and fnlwgt=77516\n",
    "and education=' Bachelors' and educationNum=13 ''').fetchall())\n",
    "\n"
   ]
  },
  {
   "cell_type": "code",
   "execution_count": 39,
   "metadata": {},
   "outputs": [
    {
     "name": "stdout",
     "output_type": "stream",
     "text": [
      "2018-12-10 17:43:59,134 INFO sqlalchemy.engine.base.Engine DELETE FROM alchemy WHERE age=38 and workclass=' Private' and fnlwgt=215646\n",
      "and education=' HS-grad' and educationNum=9\n"
     ]
    },
    {
     "name": "stderr",
     "output_type": "stream",
     "text": [
      "INFO:sqlalchemy.engine.base.Engine:DELETE FROM alchemy WHERE age=38 and workclass=' Private' and fnlwgt=215646\n",
      "and education=' HS-grad' and educationNum=9\n"
     ]
    },
    {
     "name": "stdout",
     "output_type": "stream",
     "text": [
      "2018-12-10 17:43:59,147 INFO sqlalchemy.engine.base.Engine ()\n"
     ]
    },
    {
     "name": "stderr",
     "output_type": "stream",
     "text": [
      "INFO:sqlalchemy.engine.base.Engine:()\n"
     ]
    },
    {
     "name": "stdout",
     "output_type": "stream",
     "text": [
      "2018-12-10 17:43:59,248 INFO sqlalchemy.engine.base.Engine COMMIT\n"
     ]
    },
    {
     "name": "stderr",
     "output_type": "stream",
     "text": [
      "INFO:sqlalchemy.engine.base.Engine:COMMIT\n"
     ]
    },
    {
     "name": "stdout",
     "output_type": "stream",
     "text": [
      "<sqlalchemy.engine.result.ResultProxy object at 0x000001D3C586C4E0>\n",
      "2018-12-10 17:43:59,422 INFO sqlalchemy.engine.base.Engine SELECT * FROM alchemy WHERE age=38 and workclass=' Private' and fnlwgt=215646\n",
      "and education=' HS-grad' and educationNum=9\n"
     ]
    },
    {
     "name": "stderr",
     "output_type": "stream",
     "text": [
      "INFO:sqlalchemy.engine.base.Engine:SELECT * FROM alchemy WHERE age=38 and workclass=' Private' and fnlwgt=215646\n",
      "and education=' HS-grad' and educationNum=9\n"
     ]
    },
    {
     "name": "stdout",
     "output_type": "stream",
     "text": [
      "2018-12-10 17:43:59,434 INFO sqlalchemy.engine.base.Engine ()\n"
     ]
    },
    {
     "name": "stderr",
     "output_type": "stream",
     "text": [
      "INFO:sqlalchemy.engine.base.Engine:()\n"
     ]
    },
    {
     "name": "stdout",
     "output_type": "stream",
     "text": [
      "[]\n"
     ]
    }
   ],
   "source": [
    "print(engine.execute('''DELETE FROM alchemy WHERE age=38 and workclass=' Private' and fnlwgt=215646\n",
    "and education=' HS-grad' and educationNum=9'''))\n",
    "\n",
    "print(engine.execute('''SELECT * FROM alchemy WHERE age=38 and workclass=' Private' and fnlwgt=215646\n",
    "and education=' HS-grad' and educationNum=9''').fetchall())\n"
   ]
  },
  {
   "cell_type": "markdown",
   "metadata": {},
   "source": [
    "Write two filter queries"
   ]
  },
  {
   "cell_type": "code",
   "execution_count": 51,
   "metadata": {},
   "outputs": [
    {
     "name": "stdout",
     "output_type": "stream",
     "text": [
      "2018-12-10 17:57:28,649 INFO sqlalchemy.engine.base.Engine SELECT * FROM alchemy WHERE race LIKE ' W%' LIMIT 10\n"
     ]
    },
    {
     "name": "stderr",
     "output_type": "stream",
     "text": [
      "INFO:sqlalchemy.engine.base.Engine:SELECT * FROM alchemy WHERE race LIKE ' W%' LIMIT 10\n"
     ]
    },
    {
     "name": "stdout",
     "output_type": "stream",
     "text": [
      "2018-12-10 17:57:28,661 INFO sqlalchemy.engine.base.Engine ()\n"
     ]
    },
    {
     "name": "stderr",
     "output_type": "stream",
     "text": [
      "INFO:sqlalchemy.engine.base.Engine:()\n"
     ]
    },
    {
     "name": "stdout",
     "output_type": "stream",
     "text": [
      "[(0, 39, ' State-gov', 77516, ' Bachelors', 13, ' Never-married', ' Adm-clerical', ' Not-in-family', ' White', ' Male', 2174, 0, 40, ' United-States', '<10K'), (1, 50, ' Self-emp-not-inc', 83311, ' Bachelors', 13, ' Married-civ-spouse', ' Exec-managerial', ' Husband', ' White', ' Male', 0, 0, 13, ' United-States', ' <=50K'), (5, 37, ' Private', 284582, ' Masters', 14, ' Married-civ-spouse', ' Exec-managerial', ' Wife', ' White', ' Female', 0, 0, 40, ' United-States', ' <=50K'), (7, 52, ' Self-emp-not-inc', 209642, ' HS-grad', 9, ' Married-civ-spouse', ' Exec-managerial', ' Husband', ' White', ' Male', 0, 0, 45, ' United-States', ' >50K'), (8, 31, ' Private', 45781, ' Masters', 14, ' Never-married', ' Prof-specialty', ' Not-in-family', ' White', ' Female', 14084, 0, 50, ' United-States', ' >50K'), (9, 42, ' Private', 159449, ' Bachelors', 13, ' Married-civ-spouse', ' Exec-managerial', ' Husband', ' White', ' Male', 5178, 0, 40, ' United-States', ' >50K'), (12, 23, ' Private', 122272, ' Bachelors', 13, ' Never-married', ' Adm-clerical', ' Own-child', ' White', ' Female', 0, 0, 30, ' United-States', '<10K'), (16, 25, ' Self-emp-not-inc', 176756, ' HS-grad', 9, ' Never-married', ' Farming-fishing', ' Own-child', ' White', ' Male', 0, 0, 35, ' United-States', ' <=50K'), (17, 32, ' Private', 186824, ' HS-grad', 9, ' Never-married', ' Machine-op-inspct', ' Unmarried', ' White', ' Male', 0, 0, 40, ' United-States', ' <=50K'), (18, 38, ' Private', 28887, ' 11th', 7, ' Married-civ-spouse', ' Sales', ' Husband', ' White', ' Male', 0, 0, 50, ' United-States', ' <=50K')]\n",
      "2018-12-10 17:57:28,684 INFO sqlalchemy.engine.base.Engine SELECT * FROM alchemy WHERE age  IN(30, 40) LIMIT 5\n"
     ]
    },
    {
     "name": "stderr",
     "output_type": "stream",
     "text": [
      "INFO:sqlalchemy.engine.base.Engine:SELECT * FROM alchemy WHERE age  IN(30, 40) LIMIT 5\n"
     ]
    },
    {
     "name": "stdout",
     "output_type": "stream",
     "text": [
      "2018-12-10 17:57:28,693 INFO sqlalchemy.engine.base.Engine ()\n"
     ]
    },
    {
     "name": "stderr",
     "output_type": "stream",
     "text": [
      "INFO:sqlalchemy.engine.base.Engine:()\n"
     ]
    },
    {
     "name": "stdout",
     "output_type": "stream",
     "text": [
      "[(11, 30, ' State-gov', 141297, ' Bachelors', 13, ' Married-civ-spouse', ' Prof-specialty', ' Husband', ' Asian-Pac-Islander', ' Male', 0, 0, 40, ' India', '<10K'), (14, 40, ' Private', 121772, ' Assoc-voc', 11, ' Married-civ-spouse', ' Craft-repair', ' Husband', ' Asian-Pac-Islander', ' Male', 0, 0, 40, ' ?', ' >50K'), (20, 40, ' Private', 193524, ' Doctorate', 16, ' Married-civ-spouse', ' Prof-specialty', ' Husband', ' White', ' Male', 0, 0, 60, ' United-States', ' >50K'), (33, 30, ' Federal-gov', 59951, ' Some-college', 10, ' Married-civ-spouse', ' Adm-clerical', ' Own-child', ' White', ' Male', 0, 0, 40, ' United-States', ' <=50K'), (59, 30, ' Private', 188146, ' HS-grad', 9, ' Married-civ-spouse', ' Machine-op-inspct', ' Husband', ' White', ' Male', 5013, 0, 40, ' United-States', ' <=50K')]\n"
     ]
    }
   ],
   "source": [
    "#Filter queries using LIKE\n",
    "print(engine.execute('''SELECT * FROM alchemy WHERE race LIKE ' W%' LIMIT 10''').fetchall())\n",
    "\n",
    "#Filter queries using IN\n",
    "print(engine.execute('''SELECT * FROM alchemy WHERE age  IN(30, 40) LIMIT 5''').fetchall())"
   ]
  },
  {
   "cell_type": "markdown",
   "metadata": {},
   "source": [
    "Write two function queries"
   ]
  },
  {
   "cell_type": "code",
   "execution_count": 53,
   "metadata": {},
   "outputs": [
    {
     "name": "stdout",
     "output_type": "stream",
     "text": [
      "2018-12-10 17:57:59,511 INFO sqlalchemy.engine.base.Engine SELECT COUNT(*) FROM alchemy WHERE sex==\"Male\" LIMIT 5\n"
     ]
    },
    {
     "name": "stderr",
     "output_type": "stream",
     "text": [
      "INFO:sqlalchemy.engine.base.Engine:SELECT COUNT(*) FROM alchemy WHERE sex==\"Male\" LIMIT 5\n"
     ]
    },
    {
     "name": "stdout",
     "output_type": "stream",
     "text": [
      "2018-12-10 17:57:59,525 INFO sqlalchemy.engine.base.Engine ()\n"
     ]
    },
    {
     "name": "stderr",
     "output_type": "stream",
     "text": [
      "INFO:sqlalchemy.engine.base.Engine:()\n"
     ]
    },
    {
     "name": "stdout",
     "output_type": "stream",
     "text": [
      "[(0,)]\n",
      "2018-12-10 17:57:59,627 INFO sqlalchemy.engine.base.Engine SELECT relationship,upper(relationship) FROM alchemy WHERE sex LIKE '%male%' LIMIT 10\n"
     ]
    },
    {
     "name": "stderr",
     "output_type": "stream",
     "text": [
      "INFO:sqlalchemy.engine.base.Engine:SELECT relationship,upper(relationship) FROM alchemy WHERE sex LIKE '%male%' LIMIT 10\n"
     ]
    },
    {
     "name": "stdout",
     "output_type": "stream",
     "text": [
      "2018-12-10 17:57:59,638 INFO sqlalchemy.engine.base.Engine ()\n"
     ]
    },
    {
     "name": "stderr",
     "output_type": "stream",
     "text": [
      "INFO:sqlalchemy.engine.base.Engine:()\n"
     ]
    },
    {
     "name": "stdout",
     "output_type": "stream",
     "text": [
      "[(' Not-in-family', ' NOT-IN-FAMILY'), (' Husband', ' HUSBAND'), (' Husband', ' HUSBAND'), (' Wife', ' WIFE'), (' Wife', ' WIFE'), (' Not-in-family', ' NOT-IN-FAMILY'), (' Husband', ' HUSBAND'), (' Not-in-family', ' NOT-IN-FAMILY'), (' Husband', ' HUSBAND'), (' Husband', ' HUSBAND')]\n"
     ]
    }
   ],
   "source": [
    "#using COUNT function\n",
    "print(engine.execute('''SELECT COUNT(*) FROM alchemy WHERE sex==\"Male\" LIMIT 5''').fetchall())\n",
    "\n",
    "#using Upper function\n",
    "print(engine.execute('''SELECT relationship,upper(relationship) FROM alchemy WHERE sex LIKE '%male%' LIMIT 10''').fetchall())"
   ]
  },
  {
   "cell_type": "code",
   "execution_count": null,
   "metadata": {
    "collapsed": true
   },
   "outputs": [],
   "source": []
  }
 ],
 "metadata": {
  "kernelspec": {
   "display_name": "Python 3",
   "language": "python",
   "name": "python3"
  },
  "language_info": {
   "codemirror_mode": {
    "name": "ipython",
    "version": 3
   },
   "file_extension": ".py",
   "mimetype": "text/x-python",
   "name": "python",
   "nbconvert_exporter": "python",
   "pygments_lexer": "ipython3",
   "version": "3.6.2"
  }
 },
 "nbformat": 4,
 "nbformat_minor": 2
}
